{
 "cells": [
  {
   "cell_type": "markdown",
   "id": "8c75dd19-26e5-4c1f-8cd7-e8015a31f5d0",
   "metadata": {},
   "source": [
    "Machine Learning Bootcamp Assignment-1 (date : 13/12/2022 & 15/12/2022)"
   ]
  },
  {
   "cell_type": "markdown",
   "id": "bbf20651-2b01-4417-bc4f-b4a325d3b5fb",
   "metadata": {},
   "source": [
    "                                    Date : 13/12/2022"
   ]
  },
  {
   "cell_type": "markdown",
   "id": "eb03bab4-fdfe-49c8-997f-46a326be9b1d",
   "metadata": {},
   "source": [
    "Q.1) WAP to accept two numbers from the user and display their sum"
   ]
  },
  {
   "cell_type": "code",
   "execution_count": null,
   "id": "26045c9d-74de-4aa3-9ee0-82f0a5650f44",
   "metadata": {},
   "outputs": [],
   "source": [
    "num1=int(input(\"Enter first number: \"))\n",
    "num2=int(input(\"Enter second number: \"))\n",
    "sum=num1+num2\n",
    "print(f\"Sum of {num1} and {num2} is {sum}.\")"
   ]
  },
  {
   "cell_type": "markdown",
   "id": "99cf4194-8be2-4d39-a19f-f5f440cb5f8a",
   "metadata": {},
   "source": [
    "Q.2) WAP to accept radius of a Circle from the user and calculate area and circumference"
   ]
  },
  {
   "cell_type": "code",
   "execution_count": 9,
   "id": "5eb7d054-9e12-48b2-988b-f0d0e3f49c3e",
   "metadata": {},
   "outputs": [
    {
     "name": "stdin",
     "output_type": "stream",
     "text": [
      "Enter radius of circle:  3\n"
     ]
    },
    {
     "name": "stdout",
     "output_type": "stream",
     "text": [
      "Area of circle is 28.26 and circumference is 18.84.\n"
     ]
    }
   ],
   "source": [
    "radius=float(input(\"Enter radius of circle: \"))\n",
    "circle_area=3.14*radius*radius\n",
    "circle_circumference=2*3.14*radius\n",
    "print(\"Area of circle is {:0.2f} and circumference is {:0.2f}.\".format(circle_area,circle_circumference))"
   ]
  },
  {
   "cell_type": "markdown",
   "id": "b0b5c9c8-1b27-4be0-aea2-1a79a195601b",
   "metadata": {},
   "source": [
    "Q.3) WAP to accept roll number , grade and percentage as input from the user and display it back"
   ]
  },
  {
   "cell_type": "code",
   "execution_count": 16,
   "id": "8e1edd16-11e1-4cf2-bdc2-d3ab94592a0e",
   "metadata": {},
   "outputs": [
    {
     "name": "stdin",
     "output_type": "stream",
     "text": [
      "Enter your roll number:  1\n",
      "Enter your grade:  A++\n",
      "Enter your percentage:  100\n"
     ]
    },
    {
     "name": "stdout",
     "output_type": "stream",
     "text": [
      "Roll number : 1\n",
      "Grade : A++\n",
      "Percentage : 100.0 %\n"
     ]
    }
   ],
   "source": [
    "roll=int(input(\"Enter your roll number: \"))\n",
    "grade=input(\"Enter your grade: \")\n",
    "percentage=float(input(\"Enter your percentage: \"))\n",
    "print(f\"Roll number : {roll}\\nGrade : {grade}\\nPercentage : {percentage} %\")"
   ]
  },
  {
   "cell_type": "markdown",
   "id": "5849f93d-5a50-4afd-8f01-c49aef8172d9",
   "metadata": {},
   "source": [
    "Q.4) Write a program that asks the user to enter his/her name and age. Print out a message ,\n",
    "     displaying the user’s name along with the year in which they will turn 100 years old."
   ]
  },
  {
   "cell_type": "code",
   "execution_count": 19,
   "id": "9a2ce602-9aca-4d46-af55-ad4e906c18b3",
   "metadata": {},
   "outputs": [
    {
     "name": "stdin",
     "output_type": "stream",
     "text": [
      "Enter your name :  neeraj\n",
      "Enter your age :  24\n"
     ]
    },
    {
     "name": "stdout",
     "output_type": "stream",
     "text": [
      "Hello neeraj, you will turn 100 years old on 2098.\n"
     ]
    }
   ],
   "source": [
    "name=input(\"Enter your name : \")\n",
    "age=int(input(\"Enter your age : \"))\n",
    "year=(2022-age)+100\n",
    "print(f\"Hello {name}, you will turn 100 years old on {year}.\")"
   ]
  },
  {
   "cell_type": "markdown",
   "id": "aebd8834-684b-4d1c-acf0-b9a6f393fdaa",
   "metadata": {},
   "source": [
    "Q.5) Write a program that asks the user to input 2 integers and adds them .\n",
    "     Accept both the numbers in a single line only"
   ]
  },
  {
   "cell_type": "code",
   "execution_count": 22,
   "id": "720b7972-5bbb-4db7-bd4d-4d92c62a68eb",
   "metadata": {},
   "outputs": [
    {
     "name": "stdin",
     "output_type": "stream",
     "text": [
      "Enter first number :  1\n",
      "Enter second number 2\n"
     ]
    },
    {
     "name": "stdout",
     "output_type": "stream",
     "text": [
      "Sum of 1 and 2 is 3.\n"
     ]
    }
   ],
   "source": [
    "num1,num2=int(input(\"Enter first number : \")),int(input(\"Enter second number\"))\n",
    "sum=num1+num2\n",
    "print(f\"Sum of {num1} and {num2} is {sum}.\")"
   ]
  },
  {
   "cell_type": "markdown",
   "id": "eb9a5642-508a-4875-aa02-eb61bc00d9f6",
   "metadata": {},
   "source": [
    "Q.6) Write a Python program which accepts the user's first and\n",
    "     last name and print them in reverse order with a space between them."
   ]
  },
  {
   "cell_type": "code",
   "execution_count": 24,
   "id": "a3a83aea-8af9-4a04-ac5b-bebc345a6899",
   "metadata": {},
   "outputs": [
    {
     "name": "stdin",
     "output_type": "stream",
     "text": [
      "Enter your first name :  neeraj\n",
      "Enter your last name :  nishad\n"
     ]
    },
    {
     "name": "stdout",
     "output_type": "stream",
     "text": [
      "dahsin jareen\n"
     ]
    }
   ],
   "source": [
    "first=input(\"Enter your first name : \")\n",
    "last=input(\"Enter your last name : \")\n",
    "print(last[::-1],first[::-1])"
   ]
  },
  {
   "cell_type": "markdown",
   "id": "e96d07d9-3b24-4a8a-b10f-6ec9aa76f953",
   "metadata": {},
   "source": [
    "                               Assignment Date:15/12/2022"
   ]
  },
  {
   "cell_type": "markdown",
   "id": "9b3bc1c6-a5ca-46b8-b3ba-796e026176f2",
   "metadata": {},
   "source": [
    "Q.1) WAP to accept an integer from the user and check whether it is an even or odd\n"
   ]
  },
  {
   "cell_type": "code",
   "execution_count": 30,
   "id": "ff2643a4-fb9d-4a34-9694-e192c737cec4",
   "metadata": {},
   "outputs": [
    {
     "name": "stdin",
     "output_type": "stream",
     "text": [
      "Enter the integer number :  5\n"
     ]
    },
    {
     "name": "stdout",
     "output_type": "stream",
     "text": [
      "Number is odd.\n"
     ]
    }
   ],
   "source": [
    "num=int(input(\"Enter the integer number : \"))\n",
    "if num%2==0:\n",
    "    print(\"Number is even.\")\n",
    "else :\n",
    "    print(\"Number is odd.\")"
   ]
  },
  {
   "cell_type": "markdown",
   "id": "d1e1daca-5b7f-4b74-8433-14194d2e339c",
   "metadata": {},
   "source": [
    "Q.2) WAP to accept a character from the user and check whether it is a capital letter or small letter.\n",
    "     Assume user will input only alphabets"
   ]
  },
  {
   "cell_type": "code",
   "execution_count": 38,
   "id": "16ec5211-f0e6-4c22-80fb-48c288aa1f94",
   "metadata": {},
   "outputs": [
    {
     "name": "stdin",
     "output_type": "stream",
     "text": [
      "Enter a alphabet character : A\n"
     ]
    },
    {
     "name": "stdout",
     "output_type": "stream",
     "text": [
      "Input character is in capital letter.\n"
     ]
    }
   ],
   "source": [
    "char=input(\"Enter a alphabet character :\")\n",
    "if char.isupper()==True:\n",
    "    print(\"Input character is in capital letter.\")\n",
    "else:\n",
    "    print(\"Input character is in small letter. \")"
   ]
  },
  {
   "cell_type": "markdown",
   "id": "d2e0fd51-48c1-4db2-9093-ff9b7be6289f",
   "metadata": {},
   "source": [
    "Q.3) WAP to accept a character from the user and check\n",
    "whether it is a capital letter or small letter or a digit\n",
    "or some special symbol"
   ]
  },
  {
   "cell_type": "code",
   "execution_count": 46,
   "id": "386254d6-6e5b-4fc5-b9ba-9470e0389e95",
   "metadata": {},
   "outputs": [
    {
     "name": "stdin",
     "output_type": "stream",
     "text": [
      "Enter a character like alphabet, number or special symbol :  *\n"
     ]
    },
    {
     "name": "stdout",
     "output_type": "stream",
     "text": [
      "Input character is a special symbol\n"
     ]
    }
   ],
   "source": [
    "inpt=input(\"Enter a character like alphabet, number or special symbol : \")\n",
    "if inpt.isupper()==True:\n",
    "    print(\" input character is in a capital letter.\")\n",
    "elif inpt.islower()==True:\n",
    "    print(\"Input charcater is in a small letter.\")\n",
    "elif inpt.isdigit()==True:\n",
    "    print(\"Input character is a digit. \")\n",
    "else:\n",
    "    print(\"Input character is a special symbol\")"
   ]
  },
  {
   "cell_type": "markdown",
   "id": "3d189924-8abd-4f5e-a4c0-f572c8748583",
   "metadata": {},
   "source": [
    "Q.4) WAP to accept 3 integers from the user and without\n",
    "using any logical operator and cascading of\n",
    "relational operators , find out the greatest number\n",
    "amongst them"
   ]
  },
  {
   "cell_type": "code",
   "execution_count": 3,
   "id": "2f20ed43-a6fa-43a5-afca-ca94913dcd3b",
   "metadata": {},
   "outputs": [
    {
     "name": "stdin",
     "output_type": "stream",
     "text": [
      "Enter first number :  1\n",
      "Enter second number :  2\n",
      "Enter third number :  3\n"
     ]
    },
    {
     "name": "stdout",
     "output_type": "stream",
     "text": [
      "The graetest number is 3.\n"
     ]
    }
   ],
   "source": [
    "a=int(input(\"Enter first number : \"))\n",
    "b=int(input(\"Enter second number : \"))\n",
    "c=int(input(\"Enter third number : \"))\n",
    "print(f\"The graetest number is {max(a,b,c)}.\")"
   ]
  },
  {
   "cell_type": "markdown",
   "id": "91bdf175-8a0d-4537-b87b-a43b548ee98e",
   "metadata": {},
   "source": [
    "Q.5) WAP to accept a year from the user and check\n",
    "whether it is a leap year or not.\n",
    "An year is a leap year if:\n",
    "It is exactly divisible by 4 and at the same time\n",
    "not\n",
    "divisible by 100\n",
    "OR\n",
    "It is divisible by 400\n",
    "For example:\n",
    "2017 is not a leap year\n",
    "2012 is a leap year\n",
    "1900 is a not leap year\n",
    "2000 is a leap year\n"
   ]
  },
  {
   "cell_type": "code",
   "execution_count": 8,
   "id": "3a78ac21-3fa7-4e1e-8102-a21b0c4bef7c",
   "metadata": {},
   "outputs": [
    {
     "name": "stdin",
     "output_type": "stream",
     "text": [
      "Enter the year :  1900\n"
     ]
    },
    {
     "name": "stdout",
     "output_type": "stream",
     "text": [
      "1900 is not a leap year.\n"
     ]
    }
   ],
   "source": [
    "year=int(input(\"Enter the year : \"))\n",
    "if year%4==0 and year%100!=0 or year%400==0:\n",
    "    print(f\"{year} is a leap year.\")\n",
    "else:\n",
    "    print(f\"{year} is not a leap year.\")"
   ]
  },
  {
   "cell_type": "markdown",
   "id": "7a5c1c78-167a-4723-a677-3517aaeb8af1",
   "metadata": {},
   "source": [
    "Q.6) You have to develop a number guessing game.\n",
    "Following are the steps needed:\n",
    "● At first , the program will generate a random integer\n",
    "secretly.\n",
    "● Now it will ask the user to guess that number .\n",
    "● If the user guessed it correctly then the program\n",
    "prints “Congratulations! You guessed it right” .\n",
    "● But if the number guessed by the user is larger than\n",
    "the secret number then program should print\n",
    "“Number too large” and , if the number guessed by\n",
    "the user is smaller than the secret number then the\n",
    "program should print “Number too small”\n",
    "● This should continue until the user guesses the\n",
    "number correctly or quits .\n",
    "● If the user wants to quit in between he will have to\n",
    "type 0 or negative number"
   ]
  },
  {
   "cell_type": "code",
   "execution_count": 1,
   "id": "e2bdeff0-122e-407d-960b-33d1cf18d0b2",
   "metadata": {},
   "outputs": [
    {
     "name": "stdin",
     "output_type": "stream",
     "text": [
      "Guess a number :  1\n"
     ]
    },
    {
     "name": "stdout",
     "output_type": "stream",
     "text": [
      "Number too small.\n"
     ]
    },
    {
     "name": "stdin",
     "output_type": "stream",
     "text": [
      "Guess a number :  5\n"
     ]
    },
    {
     "name": "stdout",
     "output_type": "stream",
     "text": [
      "Number too small.\n"
     ]
    },
    {
     "name": "stdin",
     "output_type": "stream",
     "text": [
      "Guess a number :  50\n"
     ]
    },
    {
     "name": "stdout",
     "output_type": "stream",
     "text": [
      "Number too large.\n"
     ]
    },
    {
     "name": "stdin",
     "output_type": "stream",
     "text": [
      "Guess a number :  40\n"
     ]
    },
    {
     "name": "stdout",
     "output_type": "stream",
     "text": [
      "Number too small.\n"
     ]
    },
    {
     "name": "stdin",
     "output_type": "stream",
     "text": [
      "Guess a number :  45\n"
     ]
    },
    {
     "name": "stdout",
     "output_type": "stream",
     "text": [
      "Number too large.\n"
     ]
    },
    {
     "name": "stdin",
     "output_type": "stream",
     "text": [
      "Guess a number :  42\n"
     ]
    },
    {
     "name": "stdout",
     "output_type": "stream",
     "text": [
      "Congratulations! you guessed it right.\n"
     ]
    }
   ],
   "source": [
    "import random\n",
    "secret=random.randint(0,100)\n",
    "guess=0\n",
    "while secret!=guess:\n",
    "    guess=int(input(\"Guess a number : \"))\n",
    "    if secret==guess:\n",
    "        print(\"Congratulations! you guessed it right.\")\n",
    "    elif secret>guess:\n",
    "        print(\"Number too small.\")\n",
    "    elif secret<guess:\n",
    "        print(\"Number too large.\")"
   ]
  },
  {
   "cell_type": "markdown",
   "id": "3397d6c8-1573-4a79-bc73-0292b77dad16",
   "metadata": {},
   "source": [
    "Q.7) Write a program to accept a string from the user and\n",
    "display it vertically but don’t display the vowels in it.\n"
   ]
  },
  {
   "cell_type": "code",
   "execution_count": 4,
   "id": "51a1fd6b-fc0e-4eed-b80a-e3502cafa3cf",
   "metadata": {},
   "outputs": [
    {
     "name": "stdin",
     "output_type": "stream",
     "text": [
      "Enter a string :  Neeraj\n"
     ]
    },
    {
     "name": "stdout",
     "output_type": "stream",
     "text": [
      "N\n",
      "r\n",
      "j\n"
     ]
    }
   ],
   "source": [
    "string=input(\"Enter a string : \")\n",
    "l=['a','e','i','o','u','A','E','I','O','U']\n",
    "for i in string:\n",
    "    if i not in l:\n",
    "        print(i)\n",
    "    "
   ]
  },
  {
   "cell_type": "markdown",
   "id": "47002a2a-c3b1-4e4e-bd80-99724e3ad7c3",
   "metadata": {},
   "source": [
    "Q.8) Write a program to continuously accept integers from the\n",
    "user until the user types 0 and as soon as 0 is entered\n",
    "display sum of all the nos entered before 0\n",
    "Note:Modify the previous code so that if the user inputs a\n",
    "negative integer , your program should ignore it ."
   ]
  },
  {
   "cell_type": "code",
   "execution_count": 1,
   "id": "1cad8698-9bb2-4f95-bfee-1c5209ee6b39",
   "metadata": {},
   "outputs": [
    {
     "name": "stdin",
     "output_type": "stream",
     "text": [
      "Enter the number :  3\n",
      "Enter the number :  2\n",
      "Enter the number :  4\n",
      "Enter the number :  0\n"
     ]
    },
    {
     "name": "stdout",
     "output_type": "stream",
     "text": [
      "Sum of all entered numbers is 9.\n"
     ]
    }
   ],
   "source": [
    "sum=0\n",
    "while True:\n",
    "    num=int(input(\"Enter the number : \"))\n",
    "    if num==0:\n",
    "        break\n",
    "    sum=sum+num\n",
    "print(f\"Sum of all entered numbers is {sum}.\")"
   ]
  },
  {
   "cell_type": "markdown",
   "id": "257343ae-8f16-467a-b01d-68b4fbb5d648",
   "metadata": {},
   "source": [
    "Q.9) Write a program using a for loop to accept a string from the user\n",
    "and display it vertically but don’t display the vowels in it.\n"
   ]
  },
  {
   "cell_type": "code",
   "execution_count": 5,
   "id": "02afe8ca-eb03-44c6-bdb7-c4bd0bf9c943",
   "metadata": {},
   "outputs": [
    {
     "name": "stdin",
     "output_type": "stream",
     "text": [
      "Enter the limit size of string :  6\n",
      "Enter the character: n\n",
      "Enter the character: e\n",
      "Enter the character: e\n",
      "Enter the character: r\n",
      "Enter the character: a\n",
      "Enter the character: j\n"
     ]
    },
    {
     "name": "stdout",
     "output_type": "stream",
     "text": [
      "n\n",
      "r\n",
      "j\n"
     ]
    }
   ],
   "source": [
    "size=int(input(\"Enter the limit size of string : \"))\n",
    "string=[]\n",
    "l=['a','e','i','o','u','A','E','I','O','U']\n",
    "for i in range(0,size):\n",
    "    s=input(\"Enter the character:\")\n",
    "    string.append(s)\n",
    "for i in string:\n",
    "    if i not in l:\n",
    "        print(i)"
   ]
  },
  {
   "cell_type": "markdown",
   "id": "9bdb5c65-7d93-4494-acb9-57c4b956bfae",
   "metadata": {},
   "source": [
    "Q.10) Write a program to accept an integer from the user and display the\n",
    "sum of all the numbers from 1 to that number.\n"
   ]
  },
  {
   "cell_type": "code",
   "execution_count": 6,
   "id": "f4b99689-2116-4bcb-bbcc-cebca9ae5972",
   "metadata": {},
   "outputs": [
    {
     "name": "stdin",
     "output_type": "stream",
     "text": [
      "Enter the integer number :  5\n"
     ]
    },
    {
     "name": "stdout",
     "output_type": "stream",
     "text": [
      "Sum of all the numbers from 1 to 5 is 15.\n"
     ]
    }
   ],
   "source": [
    "num=int(input(\"Enter the integer number : \"))\n",
    "sum=0\n",
    "for i in range(1,num+1):\n",
    "    sum=sum+i\n",
    "print(f\"Sum of all the numbers from 1 to {num} is {sum}.\")\n"
   ]
  },
  {
   "cell_type": "markdown",
   "id": "3fa3d694-d77a-4689-be12-4d62609613d1",
   "metadata": {},
   "source": [
    "Q.11) Write a program to accept an integer from the user and calculate\n",
    "its factorial"
   ]
  },
  {
   "cell_type": "code",
   "execution_count": 8,
   "id": "cd44ddd8-0f7f-48e4-a846-668c1221d853",
   "metadata": {},
   "outputs": [
    {
     "name": "stdin",
     "output_type": "stream",
     "text": [
      "Enter the number :  5\n"
     ]
    },
    {
     "name": "stdout",
     "output_type": "stream",
     "text": [
      "Factorial of 5 is 120.\n"
     ]
    }
   ],
   "source": [
    "n=int(input(\"Enter the number : \"))\n",
    "fact=1\n",
    "if n<0:\n",
    "    print(\"Not Exist.\")\n",
    "elif n==0:\n",
    "    print(\"Factorial of 0 is 1.\")\n",
    "else:\n",
    "    for i in range(1,n+1):\n",
    "        fact=fact*i\n",
    "print(f\"Factorial of {n} is {fact}.\")\n",
    "        \n"
   ]
  },
  {
   "cell_type": "raw",
   "id": "7faeba91-0cb8-4663-ab4b-6677467be158",
   "metadata": {},
   "source": [
    "Q.12) Write a program to print the following pattern\n",
    "***\n",
    "***\n",
    "***"
   ]
  },
  {
   "cell_type": "code",
   "execution_count": 4,
   "id": "af8fdd61-dd41-4819-8007-6fcf2983af7f",
   "metadata": {},
   "outputs": [
    {
     "name": "stdout",
     "output_type": "stream",
     "text": [
      "***\n",
      "***\n",
      "***\n",
      "***\n"
     ]
    }
   ],
   "source": [
    "for i in range(0,4):\n",
    "    for j in range(0,3):\n",
    "        print(\"*\",end=\"\")\n",
    "    print()"
   ]
  },
  {
   "cell_type": "raw",
   "id": "bca9554f-965b-4e49-badf-f20d10fbcdfd",
   "metadata": {},
   "source": [
    "Q.13) Write a program to print the following pattern\n",
    "*\n",
    "**\n",
    "***\n",
    "****"
   ]
  },
  {
   "cell_type": "code",
   "execution_count": 19,
   "id": "f8b14fd1-1186-4419-8334-a1cdd58ded6b",
   "metadata": {},
   "outputs": [
    {
     "name": "stdout",
     "output_type": "stream",
     "text": [
      "*\n",
      "**\n",
      "***\n",
      "****\n"
     ]
    }
   ],
   "source": [
    "for i in range(0,4):\n",
    "    for j in range(0,i+1):\n",
    "        print(\"*\",end=\"\")\n",
    "    print()"
   ]
  },
  {
   "cell_type": "raw",
   "id": "dc0bb686-cc30-418a-be8e-32d12d7c7b35",
   "metadata": {},
   "source": [
    "Q.14) Write a program to print the following pattern\n",
    "****\n",
    "***\n",
    "**\n",
    "*"
   ]
  },
  {
   "cell_type": "code",
   "execution_count": 31,
   "id": "4fbe6240-b343-40a2-8b5d-9ceace9ce4b6",
   "metadata": {},
   "outputs": [
    {
     "name": "stdout",
     "output_type": "stream",
     "text": [
      "****\n",
      "***\n",
      "**\n",
      "*\n"
     ]
    }
   ],
   "source": [
    "for i in range(0,4):\n",
    "    for j in range(4,i,-1):\n",
    "        print(\"*\",end=\"\")\n",
    "    print()"
   ]
  },
  {
   "cell_type": "markdown",
   "id": "c1930e48-7994-4e0a-9709-beac8bf4bca4",
   "metadata": {},
   "source": [
    "Q.15) Write a program to accept an integer from the user and\n",
    "display all the numbers from 1 to that number. Repeat the\n",
    "process until the user enters 0."
   ]
  },
  {
   "cell_type": "code",
   "execution_count": 8,
   "id": "0ee6bc27-fb59-4aa0-96ee-011d9494d342",
   "metadata": {},
   "outputs": [
    {
     "name": "stdin",
     "output_type": "stream",
     "text": [
      "Enter the integer number :  5\n"
     ]
    },
    {
     "name": "stdout",
     "output_type": "stream",
     "text": [
      "1\n",
      "2\n",
      "3\n",
      "4\n",
      "5\n"
     ]
    }
   ],
   "source": [
    "num=1\n",
    "for i in range(0,num):\n",
    "    num=int(input(\"Enter the integer number : \"))\n",
    "    for j in range(1,num+1):\n",
    "        print(j)"
   ]
  }
 ],
 "metadata": {
  "kernelspec": {
   "display_name": "Python 3 (ipykernel)",
   "language": "python",
   "name": "python3"
  },
  "language_info": {
   "codemirror_mode": {
    "name": "ipython",
    "version": 3
   },
   "file_extension": ".py",
   "mimetype": "text/x-python",
   "name": "python",
   "nbconvert_exporter": "python",
   "pygments_lexer": "ipython3",
   "version": "3.10.6"
  }
 },
 "nbformat": 4,
 "nbformat_minor": 5
}
